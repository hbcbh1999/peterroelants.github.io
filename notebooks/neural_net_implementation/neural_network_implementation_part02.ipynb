{
 "cells": [
  {
   "cell_type": "markdown",
   "metadata": {},
   "source": [
    "# How to implement a neural network Part 2"
   ]
  },
  {
   "cell_type": "markdown",
   "metadata": {
    "collapsed": true
   },
   "source": [
    "## Classification network\n",
    "\n",
    "This part will cover the logistic classification model and how to train it.\n",
    "\n",
    "While the previous tutorial described a very simple one-input-one-output linear regression model, this tutorial will describe a 2-class classification neural network with two input dimensions. This model is known in statistics as the [logistic regression](http://en.wikipedia.org/wiki/Logistic_regression) model. This network can be represented graphically as:\n",
    "\n",
    "![Image of the classification network](/images/neural_net_implementation/SimpleANN02.png)\n",
    "\n",
    "The notebook starts out with importing the libraries we need:"
   ]
  },
  {
   "cell_type": "code",
   "execution_count": 1,
   "metadata": {},
   "outputs": [
    {
     "name": "stdout",
     "output_type": "stream",
     "text": [
      "Python: 3.6.6\n",
      "numpy: 1.14.5\n",
      "matplotlib: 2.2.3\n",
      "seaborn: 0.9.0\n"
     ]
    }
   ],
   "source": [
    "# Python imports\n",
    "# Allow matplotlib to plot inside this notebook\n",
    "%matplotlib inline\n",
    "import sys\n",
    "import numpy as np  # Matrix and vector computation package\n",
    "import matplotlib\n",
    "import matplotlib.pyplot as plt  # Plotting library\n",
    "from matplotlib import cm # Colormaps\n",
    "from matplotlib.colors import colorConverter, ListedColormap\n",
    "import seaborn as sns  # Fancier plots\n",
    "\n",
    "# Set seaborn plotting style\n",
    "sns.set_style('darkgrid')\n",
    "# Set the seed for reproducability\n",
    "np.random.seed(seed=1)\n",
    "\n",
    "# Print versions used\n",
    "print('Python: {}.{}.{}'.format(*sys.version_info[:3]))\n",
    "print('numpy: {}'.format(np.__version__))\n",
    "print('matplotlib: {}'.format(matplotlib.__version__))\n",
    "print('seaborn: {}'.format(sns.__version__))\n",
    "#"
   ]
  },
  {
   "cell_type": "markdown",
   "metadata": {},
   "source": [
    "## Define the class distributions\n",
    "\n",
    "In this example the target classes $t$ will be generated from 2 class distributions: blue circles ($t=1$) and red stars ($t=0$). Samples from both classes are sampled from their respective distributions. These samples are plotted in the figure below.\n",
    "Note that $\\mathbf{t}$ is a $N \\times 1$ vector of target values $t_i$, and $X$ is a corresponding $N \\times 2$ matrix of individual input samples $[x_{ai}, x_{bi}]$. In what follows we will also sometimes refer to the $i$-th sample of $X$ as $\\mathbf{x}_i$ which is a vector of size $2$."
   ]
  },
  {
   "cell_type": "code",
   "execution_count": 2,
   "metadata": {},
   "outputs": [],
   "source": [
    "# Define and generate the samples\n",
    "nb_of_samples_per_class = 20  # The number of sample in each class\n",
    "red_mean = (-1., 0.)  # The mean of the red class\n",
    "blue_mean = (1., 0.)  # The mean of the blue class\n",
    "# Generate samples from both classes\n",
    "x_red = np.random.randn(nb_of_samples_per_class, 2) + red_mean\n",
    "x_blue = np.random.randn(nb_of_samples_per_class, 2)  + blue_mean\n",
    "\n",
    "# Merge samples in set of input variables x, and corresponding \n",
    "# set of output variables t\n",
    "X = np.vstack((x_red, x_blue))\n",
    "t = np.vstack((np.zeros((nb_of_samples_per_class,1)), \n",
    "               np.ones((nb_of_samples_per_class,1))))\n",
    "#"
   ]
  },
  {
   "cell_type": "code",
   "execution_count": 3,
   "metadata": {},
   "outputs": [
    {
     "data": {
      "image/png": "[encoded data removed]",
      "text/plain": [
       "<Figure size 432x288 with 1 Axes>"
      ]
     },
     "metadata": {
      "needs_background": "light"
     },
     "output_type": "display_data"
    }
   ],
   "source": [
    "# Plot both classes on the x1, x2 plane\n",
    "plt.plot(x_red[:,0], x_red[:,1], 'r*', label='class: red star')\n",
    "plt.plot(x_blue[:,0], x_blue[:,1], 'bo', label='class: blue circle')\n",
    "plt.legend(loc=2)\n",
    "plt.xlabel('$x_1$', fontsize=12)\n",
    "plt.ylabel('$x_2$', fontsize=12)\n",
    "plt.axis([-3, 4, -4, 4])\n",
    "plt.title('red star vs. blue circle classes in the input space')\n",
    "plt.show()\n",
    "#"
   ]
  },
  {
   "cell_type": "markdown",
   "metadata": {},
   "source": [
    "## Logistic function and cross-entropy loss function\n",
    "\n",
    "### Logistic function\n",
    "\n",
    "The goal is to predict the target class $t_i$ from the input values $\\mathbf{x}_i$. The network is defined as having an input $\\mathbf{x}_i = [x_{ai}, x_{bi}]$ which gets transformed by the weights $\\mathbf{w} = [w_a, w_b]$ to generate the probability that sample $\\mathbf{x}_i$ belongs to class $t_i = 1$. This probability $P(t_i=1| \\mathbf{x}_i,\\mathbf{w})$ is represented by the output $y_i$ of the network computed as $y_i = \\sigma(\\mathbf{x}_i \\cdot \\mathbf{w}^T)$. $\\sigma$ is the [logistic function](http://en.wikipedia.org/wiki/Logistic_function) and is defined as:\n",
    "$$ \\sigma(z) = \\frac{1}{1+e^{-z}} $$\n",
    "\n",
    "The logistic function is implemented below by the `logistic(z)` method below.\n",
    "\n",
    "\n",
    "### Cross-entropy loss function\n",
    "\n",
    "The loss function used to optimize the classification is the [cross-entropy error function](http://en.wikipedia.org/wiki/Cross_entropy). And is defined for sample $i$ as:\n",
    "\n",
    "$$ \\xi(t_i,y_i) = -t_i log(y_i) - (1-t_i)log(1-y_i) $$\n",
    "\n",
    "Which will give $\\xi(t,y) = - \\frac{1}{N} \\sum_{i=1}^{n} \\left[ t_i log(y_i) + (1-t_i)log(1-y_i) \\right]$ if we average over all $N$ samples.\n",
    "\n",
    "The loss function is implemented below by the `loss(y, t)` method, and its output with respect to the parameters $\\mathbf{w}$ over all samples $X$ is plotted in the figure below.\n",
    "\n",
    "The neural network output is implemented by the `nn(x, w)` method, and the neural network prediction by the `nn_predict(x,w)` method.\n",
    "\n",
    "\n",
    "The logistic function with the cross-entropy loss function and the derivatives are explained in detail in the tutorial on the [logistic classification function]({% post_url 2015-06-10-cross_entropy_logistic %}). "
   ]
  },
  {
   "cell_type": "code",
   "execution_count": 4,
   "metadata": {},
   "outputs": [],
   "source": [
    "# Define the logistic function\n",
    "def logistic(z): \n",
    "    return 1. / (1 + np.exp(-z))\n",
    "\n",
    "# Define the neural network function y = 1 / (1 + numpy.exp(-x*w))\n",
    "def nn(x, w): \n",
    "    return logistic(x.dot(w.T))\n",
    "\n",
    "# Define the neural network prediction function that only returns\n",
    "#  1 or 0 depending on the predicted class\n",
    "def nn_predict(x,w): \n",
    "    return np.around(nn(x,w))\n",
    "    \n",
    "# Define the loss function\n",
    "def loss(y, t):\n",
    "    return - np.mean(\n",
    "        np.multiply(t, np.log(y)) + np.multiply((1-t), np.log(1-y)))"
   ]
  },
  {
   "cell_type": "code",
   "execution_count": 5,
   "metadata": {},
   "outputs": [
    {
     "data": {
      "image/png": "[encoded data removed]",
      "text/plain": [
       "<Figure size 432x288 with 2 Axes>"
      ]
     },
     "metadata": {
      "needs_background": "light"
     },
     "output_type": "display_data"
    }
   ],
   "source": [
    "# Plot the loss in function of the weights\n",
    "# Define a vector of weights for which we want to plot the loss\n",
    "nb_of_ws = 100 # compute the loss nb_of_ws times in each dimension\n",
    "wsa = np.linspace(-5, 5, num=nb_of_ws) # weight a\n",
    "wsb = np.linspace(-5, 5, num=nb_of_ws) # weight b\n",
    "ws_x, ws_y = np.meshgrid(wsa, wsb) # generate grid\n",
    "loss_ws = np.zeros((nb_of_ws, nb_of_ws)) # initialize loss matrix\n",
    "# Fill the loss matrix for each combination of weights\n",
    "for i in range(nb_of_ws):\n",
    "    for j in range(nb_of_ws):\n",
    "        loss_ws[i,j] = loss(\n",
    "            nn(X, np.asmatrix([ws_x[i,j], ws_y[i,j]])) , t)\n",
    "# Plot the loss function surface\n",
    "plt.contourf(ws_x, ws_y, loss_ws, 20, cmap=cm.viridis)\n",
    "cbar = plt.colorbar()\n",
    "cbar.ax.set_ylabel('$\\\\xi$', fontsize=12)\n",
    "plt.xlabel('$w_1$', fontsize=12)\n",
    "plt.ylabel('$w_2$', fontsize=12)\n",
    "plt.title('Loss function surface')\n",
    "plt.grid()\n",
    "plt.show()\n",
    "#"
   ]
  },
  {
   "cell_type": "markdown",
   "metadata": {},
   "source": [
    "## Gradient descent optimization of the loss function\n",
    "\n",
    "The gradient descent algorithm works by taking the [gradient](http://en.wikipedia.org/wiki/Gradient) ([derivative](http://en.wikipedia.org/wiki/Derivative)) of the loss function $\\xi$ with respect to the parameters $\\mathbf{w}$, and updates the parameters in the direction of the negative gradient (down along the loss function).\n",
    "\n",
    "The parameters $\\mathbf{w}$ are updated every iteration $k$ by taking steps proportional to the negative of the gradient: $\\mathbf{w}(k+1) = \\mathbf{w}(k) - \\Delta \\mathbf{w}(k+1)$. $\\Delta \\mathbf{w}$ is defined as: $\\Delta \\mathbf{w} = \\mu \\frac{\\partial \\xi}{\\partial \\mathbf{w}}$ with $\\mu$ the learning rate.\n",
    "\n",
    "Following the [chain rule](https://en.wikipedia.org/wiki/Chain_rule) then ${\\partial \\xi_i}/{\\partial \\mathbf{w}}$, for each sample $i$ can be computed as follows:\n",
    "\n",
    "$$\n",
    "\\frac{\\partial \\xi_i}{\\partial \\mathbf{w}} = \\frac{\\partial \\xi_i}{\\partial y_i} \\frac{\\partial y_i}{\\partial z_i} \\frac{\\partial z_i}{\\partial \\mathbf{w}}\n",
    "$$\n",
    "\n",
    "Where $y_i = \\sigma(z_i)$ is the output of the logistic neuron, and $z_i = \\mathbf{x}_i \\cdot \\mathbf{w}^T$ the input to the logistic neuron. \n",
    "\n",
    "* ${\\partial \\xi_i}/{\\partial y_i}$ can be calculated as (see [this post]({% post_url 2015-06-10-cross_entropy_logistic %}) for the derivation):\n",
    "\n",
    "$$\n",
    "\\frac{\\partial \\xi_i}{\\partial y_i} = \\frac{y_i - t_i}{y_i (1 - y_i)}\n",
    "$$\n",
    "\n",
    "\n",
    "* ${\\partial y_i}/{\\partial z_i}$ can be calculated as (see [this post]({% post_url 2015-06-10-cross_entropy_logistic %}) for the derivation):\n",
    "\n",
    "$$\n",
    "\\frac{\\partial y_i}{\\partial z_i} = y_i (1 - y_i)\n",
    "$$\n",
    "\n",
    "* ${\\partial z_i}/{\\partial \\mathbf{w}}$ can be calculated as:\n",
    "\n",
    "$$\n",
    "\\frac{\\partial z_i}{\\partial \\mathbf{w}} = \\frac{\\partial (\\mathbf{x}_i \\cdot \\mathbf{w})}{\\partial \\mathbf{w}} = \\mathbf{x}_i\n",
    "$$\n",
    "\n",
    "Bringing this together we can write:\n",
    "\n",
    "$$\n",
    "\\frac{\\partial \\xi_i}{\\partial \\mathbf{w}} \n",
    "= \\frac{\\partial \\xi_i}{\\partial y_i} \\frac{\\partial y_i}{\\partial z_i} \\frac{\\partial z_i}{\\partial \\mathbf{w}} \n",
    "= \\mathbf{x}_i \\cdot y_i (1 - y_i) \\cdot \\frac{y_i - t_i}{y_i (1-y_i)} \n",
    "= \\mathbf{x}_i \\cdot (y_i-t_i) \n",
    "$$\n",
    "\n",
    "Notice how this gradient is the same (negating the constant factor) as the gradient of the squared error regression from previous section.\n",
    "\n",
    "So the full update function $\\Delta \\mathbf{w}$ for the weights will become:\n",
    "\n",
    "$$\n",
    "\\Delta \\mathbf{w} = \\mu \\cdot \\frac{\\partial \\xi_i}{\\partial \\mathbf{w}} = \\mu \\cdot \\mathbf{x}_i \\cdot (y_i - t_i)\n",
    "$$\n",
    "\n",
    "In the batch processing, we just average all the gradients for each sample:\n",
    "\n",
    "$$\\Delta \\mathbf{w} = \\mu \\cdot \\frac{1}{N} \\sum_{i=1}^{N} \\mathbf{x}_i (y_i - t_i)$$\n",
    "\n",
    "To start out the gradient descent algorithm, you typically start with picking the initial parameters at random and start updating these parameters according to the delta rule with $\\Delta \\mathbf{w}$ until convergence.\n",
    "\n",
    "The gradient ${\\partial \\xi}/{\\partial \\mathbf{w}}$ is implemented by the `gradient(w, x, t)` function. $\\Delta \\mathbf{w}$ is computed by the `delta_w(w_k, x, t, learning_rate)`. "
   ]
  },
  {
   "cell_type": "code",
   "execution_count": 6,
   "metadata": {},
   "outputs": [],
   "source": [
    "def gradient(w, x, t):\n",
    "    \"\"\"Gradient function.\"\"\"\n",
    "    return (nn(x, w) - t).T * x\n",
    "\n",
    " \n",
    "def delta_w(w_k, x, t, learning_rate):\n",
    "    \"\"\"Update function which returns the update for each \n",
    "    weight {w_a, w_b} in a vector.\"\"\"\n",
    "    return learning_rate * gradient(w_k, x, t)"
   ]
  },
  {
   "cell_type": "markdown",
   "metadata": {},
   "source": [
    "### Gradient descent updates\n",
    "\n",
    "Gradient descent is run on the example inputs $X$ and targets $\\mathbf{t}$ for 10 iterations.\n",
    "The first 3 iterations are shown in the figure below. The blue dots represent the weight parameter values $\\mathbf{w}(k)$ at iteration $k$."
   ]
  },
  {
   "cell_type": "code",
   "execution_count": 7,
   "metadata": {},
   "outputs": [],
   "source": [
    "# Set the initial weight parameter\n",
    "w = np.asmatrix([-4, -2])  # Randomly decided\n",
    "# Set the learning rate\n",
    "learning_rate = 0.05\n",
    "\n",
    "# Start the gradient descent updates and plot the iterations\n",
    "nb_of_iterations = 10  # Number of gradient descent updates\n",
    "w_iter = [w]  # List to store the weight values over the iterations\n",
    "for i in range(nb_of_iterations):\n",
    "    dw = delta_w(w, X, t, learning_rate)  # Get the delta w update\n",
    "    w = w - dw  # Update the weights\n",
    "    w_iter.append(w)  # Store the weights for plotting"
   ]
  },
  {
   "cell_type": "code",
   "execution_count": 8,
   "metadata": {},
   "outputs": [
    {
     "data": {
      "image/png": "[encoded data removed]",
      "text/plain": [
       "<Figure size 432x288 with 2 Axes>"
      ]
     },
     "metadata": {
      "needs_background": "light"
     },
     "output_type": "display_data"
    }
   ],
   "source": [
    "# Plot the first weight updates on the error surface\n",
    "# Plot the error surface\n",
    "plt.contourf(ws_x, ws_y, loss_ws, 20, alpha=0.9, cmap=cm.viridis)\n",
    "cbar = plt.colorbar()\n",
    "cbar.ax.set_ylabel('loss')\n",
    "\n",
    "# Plot the updates\n",
    "for i in range(1, 4): \n",
    "    w1 = w_iter[i-1]\n",
    "    w2 = w_iter[i]\n",
    "    # Plot the weight-loss values that represents the update\n",
    "    plt.plot(w1[0,0], w1[0,1], 'ko')  # Plot the weight-loss value\n",
    "    plt.plot([w1[0,0], w2[0,0]], [w1[0,1], w2[0,1]], 'k-')\n",
    "    plt.text(w1[0,0]-0.2, w1[0,1]+0.4, f'$w({i-1})$', color='k')\n",
    "# Plot the last weight\n",
    "w1 = w_iter[3]  \n",
    "plt.plot(w1[0,0], w1[0,1], 'ko')\n",
    "plt.text(w1[0,0]-0.2, w1[0,1]+0.4, f'$w({i})$', color='k') \n",
    "# Show figure\n",
    "plt.xlabel('$w_1$', fontsize=12)\n",
    "plt.ylabel('$w_2$', fontsize=12)\n",
    "plt.title('Gradient descent updates on lossf surface')\n",
    "plt.show()\n",
    "#"
   ]
  },
  {
   "cell_type": "markdown",
   "metadata": {},
   "source": [
    "## Visualization of the trained classifier\n",
    "\n",
    "The resulting decision boundary of running gradient descent on the example inputs $X$ and targets $\\mathbf{t}$ is shown in the figure below. The background color refers to the classification decision of the trained classifier. Note that since this decision plane is linear that not all examples can be classified correctly. Two blue circles will be misclassified as red star, and four red stars will be misclassified as blue circles.\n",
    "\n",
    "Note that the decision boundary goes through the point $(0,0)$ since we don't have a bias parameter on the logistic output unit."
   ]
  },
  {
   "cell_type": "code",
   "execution_count": 9,
   "metadata": {},
   "outputs": [
    {
     "data": {
      "image/png": "[encoded data removed]",
      "text/plain": [
       "<Figure size 432x288 with 1 Axes>"
      ]
     },
     "metadata": {
      "needs_background": "light"
     },
     "output_type": "display_data"
    }
   ],
   "source": [
    "# Plot the resulting decision boundary\n",
    "# Generate a grid over the input space to plot the color of the\n",
    "#  classification at that grid point\n",
    "nb_of_xs = 200\n",
    "xsa = np.linspace(-4, 4, num=nb_of_xs)\n",
    "xsb = np.linspace(-4, 4, num=nb_of_xs)\n",
    "xx, yy = np.meshgrid(xsa, xsb) # create the grid\n",
    "# Initialize and fill the classification plane\n",
    "classification_plane = np.zeros((nb_of_xs, nb_of_xs))\n",
    "for i in range(nb_of_xs):\n",
    "    for j in range(nb_of_xs):\n",
    "        classification_plane[i,j] = nn_predict(\n",
    "            np.asmatrix([xx[i,j], yy[i,j]]) , w)\n",
    "# Create a color map to show the classification space\n",
    "cmap = ListedColormap([\n",
    "        colorConverter.to_rgba('r', alpha=0.3),\n",
    "        colorConverter.to_rgba('b', alpha=0.3)])\n",
    "\n",
    "# Plot the classification plane with decision boundary and input samples\n",
    "plt.contourf(xx, yy, classification_plane, cmap=cmap)\n",
    "plt.plot(x_red[:,0], x_red[:,1], 'r*', label='target red star')\n",
    "plt.plot(x_blue[:,0], x_blue[:,1], 'bo', label='target blue circle')\n",
    "plt.legend(loc=2)\n",
    "plt.xlabel('$x_1$', fontsize=12)\n",
    "plt.ylabel('$x_2$', fontsize=12)\n",
    "plt.title('red star vs. blue circle classification boundary')\n",
    "plt.axis([-3, 4, -4, 4])\n",
    "plt.show()\n",
    "#"
   ]
  },
  {
   "cell_type": "markdown",
   "metadata": {},
   "source": [
    "This post at [peterroelants.github.io](http://peterroelants.github.io/) is generated from an IPython notebook file. [Link to the full IPython notebook file](https://github.com/peterroelants/peterroelants.github.io/blob/master/notebooks/neural_net_implementation/neural_network_implementation_part02.ipynb)"
   ]
  }
 ],
 "metadata": {
  "kernelspec": {
   "display_name": "Python 3",
   "language": "python",
   "name": "python3"
  },
  "language_info": {
   "codemirror_mode": {
    "name": "ipython",
    "version": 3
   },
   "file_extension": ".py",
   "mimetype": "text/x-python",
   "name": "python",
   "nbconvert_exporter": "python",
   "pygments_lexer": "ipython3",
   "version": "3.6.6"
  }
 },
 "nbformat": 4,
 "nbformat_minor": 1
}
